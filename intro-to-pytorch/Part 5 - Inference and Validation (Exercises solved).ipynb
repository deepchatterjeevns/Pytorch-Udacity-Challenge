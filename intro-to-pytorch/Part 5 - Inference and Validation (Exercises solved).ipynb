{
  "nbformat": 4,
  "nbformat_minor": 0,
  "metadata": {
    "colab": {
      "name": "Part 5 - Inference and Validation (Exercises).ipynb",
      "version": "0.3.2",
      "provenance": [],
      "include_colab_link": true
    },
    "kernelspec": {
      "name": "python3",
      "display_name": "Python 3"
    },
    "accelerator": "GPU"
  },
  "cells": [
    {
      "cell_type": "markdown",
      "metadata": {
        "id": "view-in-github",
        "colab_type": "text"
      },
      "source": [
        "<a href=\"https://colab.research.google.com/github/deepchatterjeevns/Pytorch-Udacity-Challenge/blob/master/intro-to-pytorch/Part%205%20-%20Inference%20and%20Validation%20(Exercises%20solved).ipynb\" target=\"_parent\"><img src=\"https://colab.research.google.com/assets/colab-badge.svg\" alt=\"Open In Colab\"/></a>"
      ]
    },
    {
      "metadata": {
        "id": "XbRukDsHtIUy",
        "colab_type": "code",
        "colab": {}
      },
      "cell_type": "code",
      "source": [
        "import sys\n",
        "try:\n",
        "       import torch\n",
        "except:\n",
        "    import os\n",
        "    os.environ['TCMALLOC_LARGE_ALLOC_REPORT_THRESHOLD']='2000000000'\n",
        "    # http://pytorch.org/\n",
        "    from os.path import exists\n",
        "    from wheel.pep425tags import get_abbr_impl, get_impl_ver, get_abi_tag\n",
        "    platform = '{}{}-{}'.format(get_abbr_impl(), get_impl_ver(), get_abi_tag())\n",
        "    cuda_output = !ldconfig -p|grep cudart.so|sed -e 's/.*\\.\\([0-9]*\\)\\.\\([0-9]*\\)$/cu\\1\\2/'\n",
        "    accelerator = cuda_output[0] if exists('/dev/nvidia0') else 'cpu'\n",
        "    \n",
        "    !{sys.executable} -m pip install -q http://download.pytorch.org/whl/{accelerator}/torch-0.4.1-{platform}-linux_x86_64.whl torchvision >/dev/null\n",
        "\n",
        "import torch\n",
        "from IPython.core.display import Image"
      ],
      "execution_count": 0,
      "outputs": []
    },
    {
      "metadata": {
        "id": "aO_rzdoztLEw",
        "colab_type": "code",
        "colab": {}
      },
      "cell_type": "code",
      "source": [
        "# get helper functions\n",
        "\n",
        "! wget  https://raw.githubusercontent.com/udacity/deep-learning-v2-pytorch/master/intro-to-pytorch/fc_model.py >/dev/null 2>&1\n",
        "! wget  https://raw.githubusercontent.com/udacity/deep-learning-v2-pytorch/master/intro-to-pytorch/helper.py  >/dev/null 2>&1"
      ],
      "execution_count": 0,
      "outputs": []
    },
    {
      "metadata": {
        "id": "S2FI3ZSxtJY3",
        "colab_type": "code",
        "colab": {}
      },
      "cell_type": "code",
      "source": [
        ""
      ],
      "execution_count": 0,
      "outputs": []
    },
    {
      "metadata": {
        "id": "mE9wbe9BtBK3",
        "colab_type": "text"
      },
      "cell_type": "markdown",
      "source": [
        "# Inference and Validation\n",
        "\n",
        "Now that you have a trained network, you can use it for making predictions. This is typically called **inference**, a term borrowed from statistics. However, neural networks have a tendency to perform *too well* on the training data and aren't able to generalize to data that hasn't been seen before. This is called **overfitting** and it impairs inference performance. To test for overfitting while training, we measure the performance on data not in the training set called the **validation** set. We avoid overfitting through regularization such as dropout while monitoring the validation performance during training. In this notebook, I'll show you how to do this in PyTorch. \n",
        "\n",
        "As usual, let's start by loading the dataset through torchvision. You'll learn more about torchvision and loading data in a later part. This time we'll be taking advantage of the test set which you can get by setting `train=False` here:\n",
        "\n",
        "```python\n",
        "testset = datasets.FashionMNIST('~/.pytorch/F_MNIST_data/', download=True, train=False, transform=transform)\n",
        "```\n",
        "\n",
        "The test set contains images just like the training set. Typically you'll see 10-20% of the original dataset held out for testing and validation with the rest being used for training."
      ]
    },
    {
      "metadata": {
        "id": "u_dX8bMKtBK7",
        "colab_type": "code",
        "colab": {
          "base_uri": "https://localhost:8080/",
          "height": 126
        },
        "outputId": "423147fb-226e-4bde-f43c-0d8d1f5bbeee"
      },
      "cell_type": "code",
      "source": [
        "import torch\n",
        "from torchvision import datasets, transforms\n",
        "\n",
        "# Define a transform to normalize the data\n",
        "transform = transforms.Compose([transforms.ToTensor(),\n",
        "                                transforms.Normalize((0.5, 0.5, 0.5), (0.5, 0.5, 0.5))])\n",
        "# Download and load the training data\n",
        "trainset = datasets.FashionMNIST('~/.pytorch/F_MNIST_data/', download=True, train=True, transform=transform)\n",
        "trainloader = torch.utils.data.DataLoader(trainset, batch_size=64, shuffle=True)\n",
        "\n",
        "# Download and load the test data\n",
        "testset = datasets.FashionMNIST('~/.pytorch/F_MNIST_data/', download=True, train=False, transform=transform)\n",
        "testloader = torch.utils.data.DataLoader(testset, batch_size=64, shuffle=True)"
      ],
      "execution_count": 3,
      "outputs": [
        {
          "output_type": "stream",
          "text": [
            "Downloading http://fashion-mnist.s3-website.eu-central-1.amazonaws.com/train-images-idx3-ubyte.gz\n",
            "Downloading http://fashion-mnist.s3-website.eu-central-1.amazonaws.com/train-labels-idx1-ubyte.gz\n",
            "Downloading http://fashion-mnist.s3-website.eu-central-1.amazonaws.com/t10k-images-idx3-ubyte.gz\n",
            "Downloading http://fashion-mnist.s3-website.eu-central-1.amazonaws.com/t10k-labels-idx1-ubyte.gz\n",
            "Processing...\n",
            "Done!\n"
          ],
          "name": "stdout"
        }
      ]
    },
    {
      "metadata": {
        "id": "7Nd-PzvqtBLA",
        "colab_type": "text"
      },
      "cell_type": "markdown",
      "source": [
        "Here I'll create a model like normal, using the same one from my solution for part 4."
      ]
    },
    {
      "metadata": {
        "id": "3eIP6OpVtBLB",
        "colab_type": "code",
        "colab": {}
      },
      "cell_type": "code",
      "source": [
        "from torch import nn, optim\n",
        "import torch.nn.functional as F\n",
        "\n",
        "class Classifier(nn.Module):\n",
        "    def __init__(self):\n",
        "        super().__init__()\n",
        "        self.fc1 = nn.Linear(784, 256)\n",
        "        self.fc2 = nn.Linear(256, 128)\n",
        "        self.fc3 = nn.Linear(128, 64)\n",
        "        self.fc4 = nn.Linear(64, 10)\n",
        "        \n",
        "    def forward(self, x):\n",
        "        # make sure input tensor is flattened\n",
        "        x = x.view(x.shape[0], -1)\n",
        "        \n",
        "        x = F.relu(self.fc1(x))\n",
        "        x = F.relu(self.fc2(x))\n",
        "        x = F.relu(self.fc3(x))\n",
        "        x = F.log_softmax(self.fc4(x), dim=1)\n",
        "        \n",
        "        return x"
      ],
      "execution_count": 0,
      "outputs": []
    },
    {
      "metadata": {
        "id": "x7hSAx_utBLD",
        "colab_type": "text"
      },
      "cell_type": "markdown",
      "source": [
        "The goal of validation is to measure the model's performance on data that isn't part of the training set. Performance here is up to the developer to define though. Typically this is just accuracy, the percentage of classes the network predicted correctly. Other options are [precision and recall](https://en.wikipedia.org/wiki/Precision_and_recall#Definition_(classification_context)) and top-5 error rate. We'll focus on accuracy here. First I'll do a forward pass with one batch from the test set."
      ]
    },
    {
      "metadata": {
        "id": "OMyisOA0tBLE",
        "colab_type": "code",
        "colab": {
          "base_uri": "https://localhost:8080/",
          "height": 35
        },
        "outputId": "8e979422-a78c-4f6f-c2bc-8172ba88d832"
      },
      "cell_type": "code",
      "source": [
        "model = Classifier()\n",
        "\n",
        "images, labels = next(iter(testloader))\n",
        "# Get the class probabilities\n",
        "ps = torch.exp(model(images))\n",
        "# Make sure the shape is appropriate, we should get 10 class probabilities for 64 examples\n",
        "print(ps.shape)"
      ],
      "execution_count": 5,
      "outputs": [
        {
          "output_type": "stream",
          "text": [
            "torch.Size([64, 10])\n"
          ],
          "name": "stdout"
        }
      ]
    },
    {
      "metadata": {
        "id": "k3D9-FQ2tBLK",
        "colab_type": "text"
      },
      "cell_type": "markdown",
      "source": [
        "With the probabilities, we can get the most likely class using the `ps.topk` method. This returns the $k$ highest values. Since we just want the most likely class, we can use `ps.topk(1)`. This returns a tuple of the top-$k$ values and the top-$k$ indices. If the highest value is the fifth element, we'll get back 4 as the index."
      ]
    },
    {
      "metadata": {
        "id": "m4k4b3qdtBLL",
        "colab_type": "code",
        "colab": {
          "base_uri": "https://localhost:8080/",
          "height": 199
        },
        "outputId": "99dd61f3-affe-4a7c-aa0e-d99e39bae556"
      },
      "cell_type": "code",
      "source": [
        "top_p, top_class = ps.topk(1, dim=1)\n",
        "# Look at the most likely classes for the first 10 examples\n",
        "print(top_class[:10,:])"
      ],
      "execution_count": 6,
      "outputs": [
        {
          "output_type": "stream",
          "text": [
            "tensor([[7],\n",
            "        [5],\n",
            "        [7],\n",
            "        [5],\n",
            "        [5],\n",
            "        [7],\n",
            "        [7],\n",
            "        [5],\n",
            "        [5],\n",
            "        [7]])\n"
          ],
          "name": "stdout"
        }
      ]
    },
    {
      "metadata": {
        "id": "Ix2VxaD3tBLP",
        "colab_type": "text"
      },
      "cell_type": "markdown",
      "source": [
        "Now we can check if the predicted classes match the labels. This is simple to do by equating `top_class` and `labels`, but we have to be careful of the shapes. Here `top_class` is a 2D tensor with shape `(64, 1)` while `labels` is 1D with shape `(64)`. To get the equality to work out the way we want, `top_class` and `labels` must have the same shape.\n",
        "\n",
        "If we do\n",
        "\n",
        "```python\n",
        "equals = top_class == labels\n",
        "```\n",
        "\n",
        "`equals` will have shape `(64, 64)`, try it yourself. What it's doing is comparing the one element in each row of `top_class` with each element in `labels` which returns 64 True/False boolean values for each row."
      ]
    },
    {
      "metadata": {
        "id": "FbsjZ3_ztBLQ",
        "colab_type": "code",
        "colab": {}
      },
      "cell_type": "code",
      "source": [
        "equals = top_class == labels.view(*top_class.shape)"
      ],
      "execution_count": 0,
      "outputs": []
    },
    {
      "metadata": {
        "id": "b0AHVgeNtBLT",
        "colab_type": "text"
      },
      "cell_type": "markdown",
      "source": [
        "Now we need to calculate the percentage of correct predictions. `equals` has binary values, either 0 or 1. This means that if we just sum up all the values and divide by the number of values, we get the percentage of correct predictions. This is the same operation as taking the mean, so we can get the accuracy with a call to `torch.mean`. If only it was that simple. If you try `torch.mean(equals)`, you'll get an error\n",
        "\n",
        "```\n",
        "RuntimeError: mean is not implemented for type torch.ByteTensor\n",
        "```\n",
        "\n",
        "This happens because `equals` has type `torch.ByteTensor` but `torch.mean` isn't implemented for tensors with that type. So we'll need to convert `equals` to a float tensor. Note that when we take `torch.mean` it returns a scalar tensor, to get the actual value as a float we'll need to do `accuracy.item()`."
      ]
    },
    {
      "metadata": {
        "id": "Uef68c2ZtBLU",
        "colab_type": "code",
        "colab": {
          "base_uri": "https://localhost:8080/",
          "height": 35
        },
        "outputId": "7942541e-a202-4c69-851a-15aee7960186"
      },
      "cell_type": "code",
      "source": [
        "accuracy = torch.mean(equals.type(torch.FloatTensor))\n",
        "print(f'Accuracy: {accuracy.item()*100}%')"
      ],
      "execution_count": 8,
      "outputs": [
        {
          "output_type": "stream",
          "text": [
            "Accuracy: 7.8125%\n"
          ],
          "name": "stdout"
        }
      ]
    },
    {
      "metadata": {
        "id": "qP9_Ac3stBLY",
        "colab_type": "text"
      },
      "cell_type": "markdown",
      "source": [
        "The network is untrained so it's making random guesses and we should see an accuracy around 10%. Now let's train our network and include our validation pass so we can measure how well the network is performing on the test set. Since we're not updating our parameters in the validation pass, we can speed up our code by turning off gradients using `torch.no_grad()`:\n",
        "\n",
        "```python\n",
        "# turn off gradients\n",
        "with torch.no_grad():\n",
        "    # validation pass here\n",
        "    for images, labels in testloader:\n",
        "        ...\n",
        "```\n",
        "\n",
        ">**Exercise:** Implement the validation loop below and print out the total accuracy after the loop. You can largely copy and paste the code from above, but I suggest typing it in because writing it out yourself is essential for building the skill. In general you'll always learn more by typing it rather than copy-pasting. You should be able to get an accuracy above 80%."
      ]
    },
    {
      "metadata": {
        "id": "ziWiK6Bh1ME2",
        "colab_type": "code",
        "colab": {
          "base_uri": "https://localhost:8080/",
          "height": 926
        },
        "outputId": "9d66bb8b-8b67-4ef3-9bd2-1ebf639816ba"
      },
      "cell_type": "code",
      "source": [
        "model = Classifier().cuda()\n",
        "criterion = nn.NLLLoss()\n",
        "optimizer = optim.Adam(model.parameters(), lr=0.001)\n",
        "\n",
        "epochs = 50\n",
        "steps = 0\n",
        "\n",
        "train_losses, test_losses, accuracies = [], [], []\n",
        "for e in range(epochs):\n",
        "    running_loss = 0\n",
        "    for images, labels in trainloader:\n",
        "        images, labels = images.cuda(), labels.cuda()\n",
        "        \n",
        "        optimizer.zero_grad()\n",
        "        \n",
        "        log_ps = model(images)\n",
        "        \n",
        "        loss = criterion(log_ps, labels)\n",
        "        loss.backward()\n",
        "        optimizer.step()\n",
        "        \n",
        "        running_loss += loss.item()\n",
        "    \n",
        "    else:\n",
        "        ## TODO: Implement the validation pass and print out the validation accuracy\n",
        "        test_loss = 0\n",
        "        accuracy = 0\n",
        "        \n",
        "        # turn off gradients\n",
        "        with torch.no_grad():\n",
        "            # validation pass here\n",
        "            for images, labels in testloader:\n",
        "                images, labels = images.cuda(), labels.cuda()\n",
        "                \n",
        "                log_ps = model(images)\n",
        "                \n",
        "                test_loss += criterion(log_ps, labels)\n",
        "                \n",
        "                ps = torch.exp(log_ps)\n",
        "                _, top_class = ps.topk(1, dim=1)\n",
        "                equals = top_class == labels.view(*top_class.shape)\n",
        "                accuracy += torch.mean(equals.type(torch.cuda.FloatTensor))\n",
        "                \n",
        "        steps += 1\n",
        "        train_losses.append(running_loss/len(trainloader))\n",
        "        test_losses.append(test_loss/len(testloader))\n",
        "        accuracies.append(accuracy/len(testloader))\n",
        "                \n",
        "        print(\"Epoch [{}/{}] \".format(e+1, epochs),\n",
        "            \"Training Loss:.. {:.3f}\".format(train_losses[e]),\n",
        "            \"Test Loss:.. {:.3f}\".format(test_losses[e]),\n",
        "            \"Test Accuracy:.. {:.3f}\".format(accuracies[e]))"
      ],
      "execution_count": 13,
      "outputs": [
        {
          "output_type": "stream",
          "text": [
            "Epoch [1/50]  Training Loss:.. 0.521 Test Loss:.. 0.451 Test Accuracy:.. 0.839\n",
            "Epoch [2/50]  Training Loss:.. 0.377 Test Loss:.. 0.412 Test Accuracy:.. 0.853\n",
            "Epoch [3/50]  Training Loss:.. 0.338 Test Loss:.. 0.358 Test Accuracy:.. 0.871\n",
            "Epoch [4/50]  Training Loss:.. 0.314 Test Loss:.. 0.379 Test Accuracy:.. 0.865\n",
            "Epoch [5/50]  Training Loss:.. 0.296 Test Loss:.. 0.360 Test Accuracy:.. 0.869\n",
            "Epoch [6/50]  Training Loss:.. 0.276 Test Loss:.. 0.356 Test Accuracy:.. 0.874\n",
            "Epoch [7/50]  Training Loss:.. 0.265 Test Loss:.. 0.348 Test Accuracy:.. 0.879\n",
            "Epoch [8/50]  Training Loss:.. 0.253 Test Loss:.. 0.354 Test Accuracy:.. 0.880\n",
            "Epoch [9/50]  Training Loss:.. 0.241 Test Loss:.. 0.340 Test Accuracy:.. 0.885\n",
            "Epoch [10/50]  Training Loss:.. 0.229 Test Loss:.. 0.343 Test Accuracy:.. 0.885\n",
            "Epoch [11/50]  Training Loss:.. 0.221 Test Loss:.. 0.355 Test Accuracy:.. 0.887\n",
            "Epoch [12/50]  Training Loss:.. 0.210 Test Loss:.. 0.334 Test Accuracy:.. 0.886\n",
            "Epoch [13/50]  Training Loss:.. 0.202 Test Loss:.. 0.351 Test Accuracy:.. 0.884\n",
            "Epoch [14/50]  Training Loss:.. 0.193 Test Loss:.. 0.377 Test Accuracy:.. 0.885\n",
            "Epoch [15/50]  Training Loss:.. 0.187 Test Loss:.. 0.366 Test Accuracy:.. 0.889\n",
            "Epoch [16/50]  Training Loss:.. 0.180 Test Loss:.. 0.358 Test Accuracy:.. 0.885\n",
            "Epoch [17/50]  Training Loss:.. 0.169 Test Loss:.. 0.388 Test Accuracy:.. 0.880\n",
            "Epoch [18/50]  Training Loss:.. 0.161 Test Loss:.. 0.379 Test Accuracy:.. 0.885\n",
            "Epoch [19/50]  Training Loss:.. 0.160 Test Loss:.. 0.389 Test Accuracy:.. 0.883\n",
            "Epoch [20/50]  Training Loss:.. 0.152 Test Loss:.. 0.393 Test Accuracy:.. 0.886\n",
            "Epoch [21/50]  Training Loss:.. 0.146 Test Loss:.. 0.419 Test Accuracy:.. 0.886\n",
            "Epoch [22/50]  Training Loss:.. 0.141 Test Loss:.. 0.409 Test Accuracy:.. 0.889\n",
            "Epoch [23/50]  Training Loss:.. 0.137 Test Loss:.. 0.419 Test Accuracy:.. 0.885\n",
            "Epoch [24/50]  Training Loss:.. 0.129 Test Loss:.. 0.431 Test Accuracy:.. 0.892\n",
            "Epoch [25/50]  Training Loss:.. 0.127 Test Loss:.. 0.451 Test Accuracy:.. 0.888\n",
            "Epoch [26/50]  Training Loss:.. 0.124 Test Loss:.. 0.438 Test Accuracy:.. 0.891\n",
            "Epoch [27/50]  Training Loss:.. 0.120 Test Loss:.. 0.471 Test Accuracy:.. 0.889\n",
            "Epoch [28/50]  Training Loss:.. 0.116 Test Loss:.. 0.454 Test Accuracy:.. 0.891\n",
            "Epoch [29/50]  Training Loss:.. 0.112 Test Loss:.. 0.465 Test Accuracy:.. 0.882\n",
            "Epoch [30/50]  Training Loss:.. 0.109 Test Loss:.. 0.444 Test Accuracy:.. 0.891\n",
            "Epoch [31/50]  Training Loss:.. 0.104 Test Loss:.. 0.495 Test Accuracy:.. 0.884\n",
            "Epoch [32/50]  Training Loss:.. 0.102 Test Loss:.. 0.510 Test Accuracy:.. 0.886\n",
            "Epoch [33/50]  Training Loss:.. 0.098 Test Loss:.. 0.528 Test Accuracy:.. 0.888\n",
            "Epoch [34/50]  Training Loss:.. 0.100 Test Loss:.. 0.533 Test Accuracy:.. 0.889\n",
            "Epoch [35/50]  Training Loss:.. 0.091 Test Loss:.. 0.514 Test Accuracy:.. 0.889\n",
            "Epoch [36/50]  Training Loss:.. 0.090 Test Loss:.. 0.519 Test Accuracy:.. 0.886\n",
            "Epoch [37/50]  Training Loss:.. 0.089 Test Loss:.. 0.566 Test Accuracy:.. 0.886\n",
            "Epoch [38/50]  Training Loss:.. 0.087 Test Loss:.. 0.582 Test Accuracy:.. 0.888\n",
            "Epoch [39/50]  Training Loss:.. 0.082 Test Loss:.. 0.585 Test Accuracy:.. 0.880\n",
            "Epoch [40/50]  Training Loss:.. 0.080 Test Loss:.. 0.575 Test Accuracy:.. 0.886\n",
            "Epoch [41/50]  Training Loss:.. 0.076 Test Loss:.. 0.562 Test Accuracy:.. 0.889\n",
            "Epoch [42/50]  Training Loss:.. 0.076 Test Loss:.. 0.589 Test Accuracy:.. 0.888\n",
            "Epoch [43/50]  Training Loss:.. 0.075 Test Loss:.. 0.622 Test Accuracy:.. 0.886\n",
            "Epoch [44/50]  Training Loss:.. 0.082 Test Loss:.. 0.607 Test Accuracy:.. 0.887\n",
            "Epoch [45/50]  Training Loss:.. 0.072 Test Loss:.. 0.594 Test Accuracy:.. 0.891\n",
            "Epoch [46/50]  Training Loss:.. 0.071 Test Loss:.. 0.620 Test Accuracy:.. 0.891\n",
            "Epoch [47/50]  Training Loss:.. 0.067 Test Loss:.. 0.659 Test Accuracy:.. 0.882\n",
            "Epoch [48/50]  Training Loss:.. 0.067 Test Loss:.. 0.642 Test Accuracy:.. 0.891\n",
            "Epoch [49/50]  Training Loss:.. 0.067 Test Loss:.. 0.641 Test Accuracy:.. 0.886\n",
            "Epoch [50/50]  Training Loss:.. 0.065 Test Loss:.. 0.660 Test Accuracy:.. 0.886\n"
          ],
          "name": "stdout"
        }
      ]
    },
    {
      "metadata": {
        "id": "xGkkaQ0E26Ul",
        "colab_type": "code",
        "colab": {}
      },
      "cell_type": "code",
      "source": [
        "\n",
        "%matplotlib inline\n",
        "%config InlineBackend.figure.format = 'retina'\n",
        "import matplotlib.pyplot as plt"
      ],
      "execution_count": 0,
      "outputs": []
    },
    {
      "metadata": {
        "id": "izEG5yUx2_Tx",
        "colab_type": "code",
        "colab": {
          "base_uri": "https://localhost:8080/",
          "height": 284
        },
        "outputId": "7f98581a-7751-4a15-b491-d6e624de7e57"
      },
      "cell_type": "code",
      "source": [
        "# Plotting train loss, test loss and accuracy on validation\n",
        "plt.plot(train_losses, label=\"training loss\")\n",
        "plt.plot(test_losses, label=\"validation loss\")\n",
        "plt.plot(accuracies, label=\"validation accuracy\")\n",
        "plt.legend(frameon=False)"
      ],
      "execution_count": 15,
      "outputs": [
        {
          "output_type": "execute_result",
          "data": {
            "text/plain": [
              "<matplotlib.legend.Legend at 0x7fe9417930f0>"
            ]
          },
          "metadata": {
            "tags": []
          },
          "execution_count": 15
        },
        {
          "output_type": "display_data",
          "data": {
            "image/png": "[encoded data removed]",
            "text/plain": [
              "<matplotlib.figure.Figure at 0x7fe944cbc080>"
            ]
          },
          "metadata": {
            "tags": []
          }
        }
      ]
    },
    {
      "metadata": {
        "id": "UOfty8UgtBLd",
        "colab_type": "text"
      },
      "cell_type": "markdown",
      "source": [
        "## Overfitting\n",
        "\n",
        "If we look at the training and validation losses as we train the network, we can see a phenomenon known as overfitting.\n",
        "\n",
        "<img src='https://github.com/deepchatterjeevns/deep-learning-v2-pytorch/blob/master/intro-to-pytorch/assets/overfitting.png?raw=1' width=450px>\n",
        "\n",
        "The network learns the training set better and better, resulting in lower training losses. However, it starts having problems generalizing to data outside the training set leading to the validation loss increasing. The ultimate goal of any deep learning model is to make predictions on new data, so we should strive to get the lowest validation loss possible. One option is to use the version of the model with the lowest validation loss, here the one around 8-10 training epochs. This strategy is called *early-stopping*. In practice, you'd save the model frequently as you're training then later choose the model with the lowest validation loss.\n",
        "\n",
        "The most common method to reduce overfitting (outside of early-stopping) is *dropout*, where we randomly drop input units. This forces the network to share information between weights, increasing it's ability to generalize to new data. Adding dropout in PyTorch is straightforward using the [`nn.Dropout`](https://pytorch.org/docs/stable/nn.html#torch.nn.Dropout) module.\n",
        "\n",
        "```python\n",
        "class Classifier(nn.Module):\n",
        "    def __init__(self):\n",
        "        super().__init__()\n",
        "        self.fc1 = nn.Linear(784, 256)\n",
        "        self.fc2 = nn.Linear(256, 128)\n",
        "        self.fc3 = nn.Linear(128, 64)\n",
        "        self.fc4 = nn.Linear(64, 10)\n",
        "        \n",
        "        # Dropout module with 0.2 drop probability\n",
        "        self.dropout = nn.Dropout(p=0.2)\n",
        "        \n",
        "    def forward(self, x):\n",
        "        # make sure input tensor is flattened\n",
        "        x = x.view(x.shape[0], -1)\n",
        "        \n",
        "        # Now with dropout\n",
        "        x = self.dropout(F.relu(self.fc1(x)))\n",
        "        x = self.dropout(F.relu(self.fc2(x)))\n",
        "        x = self.dropout(F.relu(self.fc3(x)))\n",
        "        \n",
        "        # output so no dropout here\n",
        "        x = F.log_softmax(self.fc4(x), dim=1)\n",
        "        \n",
        "        return x\n",
        "```\n",
        "\n",
        "During training we want to use dropout to prevent overfitting, but during inference we want to use the entire network. So, we need to turn off dropout during validation, testing, and whenever we're using the network to make predictions. To do this, you use `model.eval()`. This sets the model to evaluation mode where the dropout probability is 0. You can turn dropout back on by setting the model to train mode with `model.train()`. In general, the pattern for the validation loop will look like this, where you turn off gradients, set the model to evaluation mode, calculate the validation loss and metric, then set the model back to train mode.\n",
        "\n",
        "```python\n",
        "# turn off gradients\n",
        "with torch.no_grad():\n",
        "    \n",
        "    # set model to evaluation mode\n",
        "    model.eval()\n",
        "    \n",
        "    # validation pass here\n",
        "    for images, labels in testloader:\n",
        "        ...\n",
        "\n",
        "# set model back to train mode\n",
        "model.train()\n",
        "```"
      ]
    },
    {
      "metadata": {
        "id": "q2o-mtDotBLd",
        "colab_type": "text"
      },
      "cell_type": "markdown",
      "source": [
        "> **Exercise:** Add dropout to your model and train it on Fashion-MNIST again. See if you can get a lower validation loss or higher accuracy."
      ]
    },
    {
      "metadata": {
        "id": "cZND2KECtBLe",
        "colab_type": "code",
        "colab": {}
      },
      "cell_type": "code",
      "source": [
        "## TODO: Define your model with dropout added\n",
        "class Classifier_withDropout(nn.Module):\n",
        "    def __init__(self):\n",
        "        super().__init__()\n",
        "        self.fc1 = nn.Linear(784, 256)\n",
        "        self.fc2 = nn.Linear(256, 128)\n",
        "        self.fc3 = nn.Linear(128, 64)\n",
        "        self.fc4 = nn.Linear(64, 10)\n",
        "        \n",
        "        # Dropout module with 0.2 drop probability\n",
        "        self.dropout = nn.Dropout(p=0.2)\n",
        "        \n",
        "    def forward(self, x):\n",
        "        # make sure input tensor is flattened\n",
        "        x = x.view(x.shape[0], -1)\n",
        "        \n",
        "        # Now with dropout\n",
        "        x = self.dropout(F.relu(self.fc1(x)))\n",
        "        x = self.dropout(F.relu(self.fc2(x)))\n",
        "        x = self.dropout(F.relu(self.fc3(x)))\n",
        "        \n",
        "        # output so no dropout here\n",
        "        x = F.log_softmax(self.fc4(x), dim=1)\n",
        "        \n",
        "        return x"
      ],
      "execution_count": 0,
      "outputs": []
    },
    {
      "metadata": {
        "id": "upc5iozotBLh",
        "colab_type": "code",
        "colab": {
          "base_uri": "https://localhost:8080/",
          "height": 563
        },
        "outputId": "51cab7bf-54a5-43cb-df90-7ec63b7ce138"
      },
      "cell_type": "code",
      "source": [
        "## TODO: Train your model with dropout, and monitor the training progress with the validation loss and accuracy\n",
        "model = Classifier_withDropout().cuda()\n",
        "criterion = nn.NLLLoss()\n",
        "optimizer = optim.Adam(model.parameters(), lr=0.001)\n",
        "\n",
        "epochs = 30\n",
        "steps = 0\n",
        "\n",
        "train_losses, test_losses, accuracies = [], [], []\n",
        "for e in range(epochs):\n",
        "    running_loss = 0\n",
        "    for images, labels in trainloader:\n",
        "        images, labels = images.cuda(), labels.cuda()\n",
        "        \n",
        "        optimizer.zero_grad()\n",
        "        \n",
        "        log_ps = model(images)\n",
        "        \n",
        "        loss = criterion(log_ps, labels)\n",
        "        loss.backward()\n",
        "        optimizer.step()\n",
        "        \n",
        "        running_loss += loss.item()\n",
        "    \n",
        "    else:\n",
        "        ## TODO: Implement the validation pass and print out the validation accuracy\n",
        "        test_loss = 0\n",
        "        accuracy = 0\n",
        "        \n",
        "        with torch.no_grad():\n",
        "            \n",
        "            model.eval()\n",
        "            \n",
        "            # validation pass here\n",
        "            for images, labels in testloader:\n",
        "                images, labels = images.cuda(), labels.cuda()\n",
        "                \n",
        "                log_ps = model(images)\n",
        "                \n",
        "                test_loss += criterion(log_ps, labels)\n",
        "                \n",
        "                ps = torch.exp(log_ps)\n",
        "                _, top_class = ps.topk(1, dim=1)\n",
        "                equals = top_class == labels.view(*top_class.shape)\n",
        "                accuracy += torch.mean(equals.type(torch.cuda.FloatTensor))\n",
        "                \n",
        "        steps += 1\n",
        "        train_losses.append(running_loss/len(trainloader))\n",
        "        test_losses.append(test_loss/len(testloader))\n",
        "        accuracies.append(accuracy/len(testloader))\n",
        "        \n",
        "        model.train()\n",
        "                \n",
        "        print(\"Epoch [{}/{}] \".format(e+1, epochs),\n",
        "            \"Training Loss:.. {:.3f}\".format(train_losses[e]),\n",
        "            \"Test Loss:.. {:.3f}\".format(test_losses[e]),\n",
        "            \"Test Accuracy:.. {:.3f}\".format(accuracies[e]))"
      ],
      "execution_count": 18,
      "outputs": [
        {
          "output_type": "stream",
          "text": [
            "Epoch [1/30]  Training Loss:.. 0.597 Test Loss:.. 0.452 Test Accuracy:.. 0.834\n",
            "Epoch [2/30]  Training Loss:.. 0.436 Test Loss:.. 0.406 Test Accuracy:.. 0.853\n",
            "Epoch [3/30]  Training Loss:.. 0.397 Test Loss:.. 0.382 Test Accuracy:.. 0.862\n",
            "Epoch [4/30]  Training Loss:.. 0.371 Test Loss:.. 0.372 Test Accuracy:.. 0.867\n",
            "Epoch [5/30]  Training Loss:.. 0.354 Test Loss:.. 0.378 Test Accuracy:.. 0.864\n",
            "Epoch [6/30]  Training Loss:.. 0.341 Test Loss:.. 0.364 Test Accuracy:.. 0.869\n",
            "Epoch [7/30]  Training Loss:.. 0.332 Test Loss:.. 0.368 Test Accuracy:.. 0.869\n",
            "Epoch [8/30]  Training Loss:.. 0.322 Test Loss:.. 0.345 Test Accuracy:.. 0.879\n",
            "Epoch [9/30]  Training Loss:.. 0.311 Test Loss:.. 0.349 Test Accuracy:.. 0.874\n",
            "Epoch [10/30]  Training Loss:.. 0.304 Test Loss:.. 0.344 Test Accuracy:.. 0.879\n",
            "Epoch [11/30]  Training Loss:.. 0.296 Test Loss:.. 0.349 Test Accuracy:.. 0.880\n",
            "Epoch [12/30]  Training Loss:.. 0.291 Test Loss:.. 0.334 Test Accuracy:.. 0.880\n",
            "Epoch [13/30]  Training Loss:.. 0.286 Test Loss:.. 0.341 Test Accuracy:.. 0.881\n",
            "Epoch [14/30]  Training Loss:.. 0.280 Test Loss:.. 0.336 Test Accuracy:.. 0.882\n",
            "Epoch [15/30]  Training Loss:.. 0.275 Test Loss:.. 0.335 Test Accuracy:.. 0.881\n",
            "Epoch [16/30]  Training Loss:.. 0.269 Test Loss:.. 0.342 Test Accuracy:.. 0.881\n",
            "Epoch [17/30]  Training Loss:.. 0.263 Test Loss:.. 0.330 Test Accuracy:.. 0.882\n",
            "Epoch [18/30]  Training Loss:.. 0.259 Test Loss:.. 0.335 Test Accuracy:.. 0.885\n",
            "Epoch [19/30]  Training Loss:.. 0.260 Test Loss:.. 0.321 Test Accuracy:.. 0.887\n",
            "Epoch [20/30]  Training Loss:.. 0.254 Test Loss:.. 0.334 Test Accuracy:.. 0.884\n",
            "Epoch [21/30]  Training Loss:.. 0.252 Test Loss:.. 0.326 Test Accuracy:.. 0.890\n",
            "Epoch [22/30]  Training Loss:.. 0.247 Test Loss:.. 0.337 Test Accuracy:.. 0.885\n",
            "Epoch [23/30]  Training Loss:.. 0.242 Test Loss:.. 0.319 Test Accuracy:.. 0.891\n",
            "Epoch [24/30]  Training Loss:.. 0.240 Test Loss:.. 0.334 Test Accuracy:.. 0.888\n",
            "Epoch [25/30]  Training Loss:.. 0.238 Test Loss:.. 0.321 Test Accuracy:.. 0.894\n",
            "Epoch [26/30]  Training Loss:.. 0.234 Test Loss:.. 0.336 Test Accuracy:.. 0.891\n",
            "Epoch [27/30]  Training Loss:.. 0.232 Test Loss:.. 0.331 Test Accuracy:.. 0.891\n",
            "Epoch [28/30]  Training Loss:.. 0.230 Test Loss:.. 0.324 Test Accuracy:.. 0.893\n",
            "Epoch [29/30]  Training Loss:.. 0.228 Test Loss:.. 0.327 Test Accuracy:.. 0.890\n",
            "Epoch [30/30]  Training Loss:.. 0.223 Test Loss:.. 0.317 Test Accuracy:.. 0.895\n"
          ],
          "name": "stdout"
        }
      ]
    },
    {
      "metadata": {
        "id": "tgbwO7dCAP8-",
        "colab_type": "code",
        "colab": {
          "base_uri": "https://localhost:8080/",
          "height": 284
        },
        "outputId": "872f04c5-dddb-4077-a108-c1532da7c1ec"
      },
      "cell_type": "code",
      "source": [
        "plt.plot(train_losses, label=\"training loss\")\n",
        "plt.plot(test_losses, label=\"validation loss\")\n",
        "plt.plot(accuracies, label=\"validation accuracy\")\n",
        "plt.legend(frameon=False)"
      ],
      "execution_count": 19,
      "outputs": [
        {
          "output_type": "execute_result",
          "data": {
            "text/plain": [
              "<matplotlib.legend.Legend at 0x7fe94189dfd0>"
            ]
          },
          "metadata": {
            "tags": []
          },
          "execution_count": 19
        },
        {
          "output_type": "display_data",
          "data": {
            "image/png": "[encoded data removed]",
            "text/plain": [
              "<matplotlib.figure.Figure at 0x7fe9418e8208>"
            ]
          },
          "metadata": {
            "tags": []
          }
        }
      ]
    },
    {
      "metadata": {
        "id": "YwLCziUOtBLj",
        "colab_type": "text"
      },
      "cell_type": "markdown",
      "source": [
        "## Inference\n",
        "\n",
        "Now that the model is trained, we can use it for inference. We've done this before, but now we need to remember to set the model in inference mode with `model.eval()`. You'll also want to turn off autograd with the `torch.no_grad()` context."
      ]
    },
    {
      "metadata": {
        "id": "B6lcaBq8tBLk",
        "colab_type": "code",
        "colab": {
          "base_uri": "https://localhost:8080/",
          "height": 228
        },
        "outputId": "dfc99e94-574c-4ed2-ea5c-b2de18c825bd"
      },
      "cell_type": "code",
      "source": [
        "# Import helper module (should be in the repo)\n",
        "import helper\n",
        "\n",
        "# Test out your network!\n",
        "\n",
        "model.eval()\n",
        "\n",
        "dataiter = iter(testloader)\n",
        "images, labels = dataiter.next()\n",
        "images, labels = images.cuda(), labels.cuda()\n",
        "img = images[0]\n",
        "# Convert 2D image to 1D vector\n",
        "img = img.view(1, 784)\n",
        "\n",
        "# Calculate the class probabilities (softmax) for img\n",
        "with torch.no_grad():\n",
        "    output = model.forward(img)\n",
        "\n",
        "ps = torch.exp(output)\n",
        "\n",
        "# Plot the image and probabilities\n",
        "helper.view_classify(img.view(1, 28, 28).cpu(), ps.cpu(), version='Fashion')"
      ],
      "execution_count": 20,
      "outputs": [
        {
          "output_type": "display_data",
          "data": {
            "image/png": "[encoded data removed]",
            "text/plain": [
              "<matplotlib.figure.Figure at 0x7fe940e2fba8>"
            ]
          },
          "metadata": {
            "tags": []
          }
        }
      ]
    },
    {
      "metadata": {
        "id": "f30OqcXqtBLp",
        "colab_type": "text"
      },
      "cell_type": "markdown",
      "source": [
        "## Next Up!\n",
        "\n",
        "In the next part, I'll show you how to save your trained models. In general, you won't want to train a model everytime you need it. Instead, you'll train once, save it, then load the model when you want to train more or use if for inference."
      ]
    }
  ]
}